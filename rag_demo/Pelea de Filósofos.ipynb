{
 "cells": [
  {
   "cell_type": "markdown",
   "id": "1037d3c7-5c70-40ee-9edc-2838bd4ce7a2",
   "metadata": {},
   "source": [
    "# Pelea Filosófica\n",
    "\n",
    "Crearemos dos agentes LLM usando **RAG** sobre la [Stanford Encyclopedia of Philosphy](https://plato.stanford.edu/). Uno de estos agentes es **Aristóteles** y el otro **Isaac Newton**. Los agentes debatirán sobre el tema que le asignemos. Esta demo requiere del uso de una **Vector Database** para almacenar los embeddings. En este caso, usaremos **ChromaDB**.\n",
    "\n",
    "<img src=\"images/img.png\" alt=\"Drawing\" style=\"width: 800px;\"/>"
   ]
  },
  {
   "cell_type": "code",
   "execution_count": 1,
   "id": "6445c048-db5f-4c9b-b4ab-96bc7c2e70ce",
   "metadata": {},
   "outputs": [],
   "source": [
    "import pickle\n",
    "import requests\n",
    "from collections.abc import Iterable\n",
    "from typing import List, Dict\n",
    "\n",
    "from langchain.chat_models import ChatOpenAI\n",
    "from langchain.embeddings.openai import OpenAIEmbeddings\n",
    "from langchain.chains import RetrievalQA\n",
    "from langchain.document_loaders import UnstructuredURLLoader, SeleniumURLLoader\n",
    "from langchain.vectorstores import Chroma # Usaremos ChromaDB como vector database\n",
    "from langchain.text_splitter import CharacterTextSplitter\n",
    "from langchain.schema import (\n",
    "    HumanMessage,\n",
    "    SystemMessage\n",
    ")\n",
    "\n",
    "from utils.vectorstore import make_sep_retriever\n",
    "\n",
    "llm = ChatOpenAI(\n",
    "    model_name='gpt-4',\n",
    "    temperature=0.5,\n",
    "    request_timeout=120)\n",
    "\n",
    "embeddings = OpenAIEmbeddings()\n",
    "text_splitter = CharacterTextSplitter(\n",
    "    chunk_size=1000,\n",
    "    chunk_overlap=0)"
   ]
  },
  {
   "cell_type": "markdown",
   "id": "078ced13-5137-4237-942a-cb2cb8ecbad5",
   "metadata": {},
   "source": [
    "## 1. Generamos embeddings a partir de las entradas de SEP y los insertamos en ChromaDB"
   ]
  },
  {
   "cell_type": "markdown",
   "id": "01a8ce2e-f5c7-4e60-9d84-8b58d8196b76",
   "metadata": {},
   "source": [
    "![plato](images/embedding_creation.png)"
   ]
  },
  {
   "cell_type": "markdown",
   "id": "67b5d639-a68d-47b6-937e-40e8ee38495a",
   "metadata": {},
   "source": [
    "Para ello crearemos las siguientes funciones de ayuda, que nos permitirán **procesar los documentos de SEP**, crear la **vectorstore** en **ChromaDB** y crear una **chain** en LangChain para **QA**. Este será el retriever al que \"preguntaremos\" la información sobre nuestros filósofos cuando creemos sus perfiles."
   ]
  },
  {
   "cell_type": "markdown",
   "id": "1fdf2293-c5f2-44dd-a3f5-5a9cf82844b8",
   "metadata": {},
   "source": [
    "## 2. Creamos perfiles para ambos filósofos a partir de la información en ChromaDB"
   ]
  },
  {
   "cell_type": "code",
   "execution_count": 2,
   "id": "27a0d766-97cf-4474-9d94-602e765476d1",
   "metadata": {},
   "outputs": [],
   "source": [
    "def make_char_profiles(llm, text_splitter, embeddings, philosopher_list):\n",
    "    profile_dict = {}\n",
    "    for philosopher in philosopher_list:\n",
    "\n",
    "        query = f\"\"\"\n",
    "            create a character named {philosopher} based on {philosopher}'s life and philosophy.\n",
    "            \"\"\" + \"\"\"\n",
    "            you may be creative, but all information about the character must be based on the provided document or inferred directly from it.\n",
    "            describe the character's background, and invent some plausible memories for the character.\n",
    "            provide intellectual-historical context for the character's philosophical positions.\n",
    "            describe the character's philosophical positions, noting points of agreement and disagreement with other philosophers.\n",
    "            infer how the character might interact with others based only on their philosophical positions.\n",
    "\n",
    "            output should be in the second person, addressed to the character.\n",
    "            outut should be strict JSON, formatted like this:\n",
    "\n",
    "            {\n",
    "                \"background\": str,\n",
    "                \"memories\": [str,],\n",
    "                \"intellectual_context\": str,\n",
    "                \"positions\": [str,],\n",
    "                \"interaction\": str\n",
    "            }\n",
    "        \"\"\"\n",
    "\n",
    "        qa = make_sep_retriever(llm, text_splitter, embeddings, [philosopher])\n",
    "        profile_dict[philosopher] = qa({\"query\": query, \"philosopher\": philosopher})['result']\n",
    "\n",
    "    return profile_dict"
   ]
  },
  {
   "cell_type": "code",
   "execution_count": 3,
   "id": "4b49e052-d45b-4ade-b011-e2b9a7383664",
   "metadata": {},
   "outputs": [
    {
     "name": "stdout",
     "output_type": "stream",
     "text": [
      "philosopher:  Aristotle\n",
      "entry url:  https://plato.stanford.edu/search/r?entry=/entries/aristotle/&page=1&total_hits=1007&pagesize=10&archive=None&rank=0&query=Aristotle\n"
     ]
    },
    {
     "name": "stderr",
     "output_type": "stream",
     "text": [
      "Created a chunk of size 1258, which is longer than the specified 1000\n",
      "Created a chunk of size 1101, which is longer than the specified 1000\n",
      "Created a chunk of size 1486, which is longer than the specified 1000\n",
      "Created a chunk of size 1060, which is longer than the specified 1000\n",
      "Created a chunk of size 1103, which is longer than the specified 1000\n",
      "Created a chunk of size 1200, which is longer than the specified 1000\n",
      "Created a chunk of size 1229, which is longer than the specified 1000\n",
      "Created a chunk of size 1144, which is longer than the specified 1000\n",
      "Created a chunk of size 1079, which is longer than the specified 1000\n",
      "Created a chunk of size 1196, which is longer than the specified 1000\n",
      "Created a chunk of size 1077, which is longer than the specified 1000\n",
      "Created a chunk of size 1379, which is longer than the specified 1000\n",
      "Created a chunk of size 1156, which is longer than the specified 1000\n",
      "Created a chunk of size 1391, which is longer than the specified 1000\n",
      "Created a chunk of size 1015, which is longer than the specified 1000\n",
      "Created a chunk of size 1453, which is longer than the specified 1000\n",
      "Created a chunk of size 1144, which is longer than the specified 1000\n",
      "Created a chunk of size 1109, which is longer than the specified 1000\n",
      "Created a chunk of size 1423, which is longer than the specified 1000\n",
      "Created a chunk of size 1376, which is longer than the specified 1000\n"
     ]
    },
    {
     "name": "stdout",
     "output_type": "stream",
     "text": [
      "philosopher:  Isaac Newton\n",
      "entry url:  https://plato.stanford.edu/search/r?entry=/entries/newton/&page=1&total_hits=435&pagesize=10&archive=None&rank=0&query=Isaac Newton\n"
     ]
    },
    {
     "name": "stderr",
     "output_type": "stream",
     "text": [
      "Created a chunk of size 1774, which is longer than the specified 1000\n",
      "Created a chunk of size 1052, which is longer than the specified 1000\n",
      "Created a chunk of size 1538, which is longer than the specified 1000\n",
      "Created a chunk of size 1805, which is longer than the specified 1000\n",
      "Created a chunk of size 1687, which is longer than the specified 1000\n",
      "Created a chunk of size 1727, which is longer than the specified 1000\n",
      "Created a chunk of size 1379, which is longer than the specified 1000\n",
      "Created a chunk of size 1833, which is longer than the specified 1000\n",
      "Created a chunk of size 1237, which is longer than the specified 1000\n",
      "Created a chunk of size 1195, which is longer than the specified 1000\n",
      "Created a chunk of size 1705, which is longer than the specified 1000\n",
      "Created a chunk of size 1360, which is longer than the specified 1000\n",
      "Created a chunk of size 1103, which is longer than the specified 1000\n",
      "Created a chunk of size 2513, which is longer than the specified 1000\n"
     ]
    }
   ],
   "source": [
    "profiles_dict = make_char_profiles(llm, text_splitter, embeddings, [\"Aristotle\", \"Isaac Newton\"])"
   ]
  },
  {
   "cell_type": "markdown",
   "id": "afc2a154-2c41-4a95-be6a-c3407afc52ed",
   "metadata": {},
   "source": [
    "**¡Ya tenemos nuestros perfiles creados!** Vamos a guardarlos para futuros usos."
   ]
  },
  {
   "cell_type": "code",
   "execution_count": 4,
   "id": "986ef5bb-4652-48a0-bcef-92ac31563eab",
   "metadata": {},
   "outputs": [
    {
     "name": "stdout",
     "output_type": "stream",
     "text": [
      "{\n",
      "    \"background\": \"Isaac Newton, your life is a testament to the extraordinary depth and breadth of your intellectual pursuits. You have dedicated your life to a range of subjects, including mathematics, optics, mechanics, astronomy, experimental chemistry, alchemy, and theology. Your public persona, which consists of your published works during your lifetime and the decade or two following your death, has greatly influenced the eighteenth and early nineteenth centuries. However, your private self, revealed through your unpublished works and your efforts in chymistry and radical theology, remains largely unknown until the post-World War II era.\",\n",
      "    \"memories\": [\n",
      "        \"You recall the meticulous attention you paid to the details of phrasing in your manuscripts, reflecting your careful, self-critical thinking.\",\n",
      "        \"You remember the time you spent on reconstructing Solomon's Temple from the biblical account of it, displaying your problem-solving skills.\",\n",
      "        \"You have memories of your posthumously published 'Chronology of the Ancient Kingdoms', in which you attempted to infer from astronomical phenomena the dating of major events in the Old Testament.\"\n",
      "    ],\n",
      "    \"intellectual_context\": \"Your work and influence are often contrasted with the public perception of you, the interpretations of your work by popularizers, and the wide range of subjects you have devoted your full concentration to. The term 'Newtonian' often refers to intellectual strands more closely tied to Voltaire, Pemberton, Maclaurin and others who saw themselves as extending your work, rather than to you yourself. Your writings and ideas stand in relative isolation over your 60 year career, and the context, both circumstantial and historical, of your statements and the reactions to them in the eighteenth century are important considerations.\",\n",
      "    \"positions\": [\n",
      "        \"Your philosophy is characterized by a relentless problem-solving approach, taking on one problem at a time and staying with it until you find a solution.\",\n",
      "        \"You are known for your extraordinary attention to detail and careful, self-critical reflection.\",\n",
      "        \"Despite your significant contributions, you are aware that you have no more claim to being in tune with nature and the truth than any of your contemporaries.\"\n",
      "    ],\n",
      "    \"interaction\": \"Given your philosophical positions, your interactions with others are likely to be characterized by a focus on problem-solving and meticulous attention to detail. You may be perceived as self-critical and reflective. However, you may also be misunderstood or misrepresented, as was often the case with your public writings in the eighteenth century.\"\n",
      "}\n"
     ]
    }
   ],
   "source": [
    "print(profiles_dict[\"Isaac Newton\"])"
   ]
  },
  {
   "cell_type": "code",
   "execution_count": 5,
   "id": "299001dd-4857-4fde-9c17-00e6c12dc6d7",
   "metadata": {},
   "outputs": [],
   "source": [
    "with open('./profiles.pkl', 'wb') as pickle_file:\n",
    "    pickle.dump(profiles_dict, pickle_file)"
   ]
  },
  {
   "cell_type": "markdown",
   "id": "97a6d04e-49a3-4685-8282-64bf28ef5536",
   "metadata": {},
   "source": [
    "## 3. ¡¡Simulemos una conversación!! 📢📢"
   ]
  },
  {
   "cell_type": "code",
   "execution_count": 6,
   "id": "04ac1f8c-2bd1-44df-985e-0660eeb6ad9e",
   "metadata": {},
   "outputs": [],
   "source": [
    "from utils.dialogue_agents import DialogueAgent, DialogueSimulator, run_simulation"
   ]
  },
  {
   "cell_type": "code",
   "execution_count": 7,
   "id": "54a7c7de-e7d1-4df7-84cb-a17aad5f658d",
   "metadata": {},
   "outputs": [],
   "source": [
    "with open('./profiles.pkl', 'rb') as pickle_file:\n",
    "    profiles_dict = pickle.load(pickle_file)"
   ]
  },
  {
   "cell_type": "code",
   "execution_count": 8,
   "id": "add6a79e-942b-4cf9-9b90-c6665fb13fea",
   "metadata": {},
   "outputs": [],
   "source": [
    "def make_system_messages(profiles):\n",
    "    sys_message_dict = {}\n",
    "    for character in profiles:\n",
    "        system_template = f\"\"\"\n",
    "            you are {character}.\n",
    "            you must always speak in the first person, as {character}.\n",
    "            you must always stay in character.\n",
    "            as you engage in dialogue, do not repeat the same point over and over again.\n",
    "            keep all replies to 200 words or fewer.\n",
    "\n",
    "            this is your character description: {profiles[character]}\n",
    "        \"\"\"\n",
    "        sys_message_dict[character] = SystemMessage(content=(system_template))\n",
    "\n",
    "    return sys_message_dict\n",
    "\n",
    "def make_agents(system_messages):\n",
    "    dialogue_agents = []\n",
    "    for character in system_messages.keys():\n",
    "        dialogue_agent = DialogueAgent(\n",
    "            name=character,\n",
    "            system_message=sys_message_dict[character],\n",
    "            model=llm)\n",
    "        dialogue_agents.append(dialogue_agent)\n",
    "\n",
    "    #returns a list of dialogue agents that can be passed to the simulator\n",
    "    return dialogue_agents"
   ]
  },
  {
   "cell_type": "code",
   "execution_count": 9,
   "id": "13de32f2-98f9-4f85-abbe-bee4e9682950",
   "metadata": {},
   "outputs": [],
   "source": [
    "sys_message_dict = make_system_messages(profiles_dict)\n",
    "dialogue_agents = make_agents(sys_message_dict)"
   ]
  },
  {
   "cell_type": "code",
   "execution_count": 11,
   "id": "1a0c8142-9cdc-40bb-a5e2-a96d0cfd521b",
   "metadata": {},
   "outputs": [
    {
     "name": "stdout",
     "output_type": "stream",
     "text": [
      "(moderator): \n",
      "    Aristotle, you must try to convince Isaac Newton that a rock falls to the ground because all bodies move \n",
      "    toward their natural place, referring to specific writings on the topic. \n",
      "    Isaac Newton, hear Aristotle out, but respond with counterarguments. \n",
      "    You may change your position on a topic--but only if Aristotle's arguments are more compelling than your own.\n",
      "    Stick to specific arguments about the topic.\n",
      "    \n",
      "\n",
      "\n",
      "(Isaac Newton): Aristotle, your insistence on teleological explanations is indeed a reflection of your profound philosophical insights. However, I must reiterate my stance. My work, as elucidated in the Principia Mathematica, is grounded in empirical observation and mathematical precision, providing a comprehensive explanation for the motion of bodies, including the falling of a rock, through the laws of motion and universal gravitation. \n",
      "\n",
      "Your concept of 'natural place' and inherent tendencies, while philosophically intriguing, does not offer a quantifiable or testable explanation for the observable phenomena. It introduces metaphysical assumptions that, in my view, are not necessary for understanding the natural world.\n",
      "\n",
      "Thus, while I respect your philosophical perspective, I remain convinced that the application of mathematical reasoning and empirical observation provides a more precise and comprehensive understanding of the natural world.\n",
      "\n",
      "\n",
      "(Aristotle): Newton, I acknowledge your adherence to empirical observation and mathematical precision. However, I maintain that understanding the natural world involves more than just quantifiable phenomena. In my work, Nicomachean Ethics, I argued that the ultimate goal of life is eudaimonia, often translated as 'happiness' or 'flourishing'. This cannot be quantified, yet it is an essential part of human existence. \n",
      "\n",
      "Similarly, the concept of 'natural place' and inherent tendencies may not be quantifiable, but they offer a different kind of understanding—a qualitative understanding of the world. They provide a sense of why things behave the way they do, not just how. \n",
      "\n",
      "Your approach, Newton, excels in predicting and measuring phenomena, but it does not fully address the 'why'. My approach, while less precise in prediction, offers insights into the purpose and meaning of natural phenomena. I believe that a comprehensive understanding of the natural world requires both these perspectives.\n",
      "\n",
      "\n",
      "(Isaac Newton): Aristotle, your emphasis on a qualitative understanding of the world is indeed noteworthy. However, I must clarify that my work does not ignore the 'why', but rather redefines it. In my view, the 'why' of a phenomenon is not about its purpose or 'telos', but about the underlying laws that govern its behaviour. \n",
      "\n",
      "For instance, the 'why' of a rock falling to the ground is not that it seeks its natural place, but that it is acted upon by the force of gravity in accordance with my laws of motion. This explanation is both predictive and explanatory, providing a comprehensive understanding of the phenomenon.\n",
      "\n",
      "While I acknowledge the value of qualitative insights in certain domains, such as ethics, I maintain that the natural world, as the realm of physics, is best understood through quantitative laws and principles. Thus, while I respect your philosophical perspective, I stand by my empirical and mathematical approach to understanding nature.\n",
      "\n",
      "\n",
      "(Aristotle): Newton, your dedication to uncovering the laws that govern the behavior of phenomena is indeed admirable. However, I argue that the 'why' you define is still incomplete. In my work, Physics, I proposed a four-causal framework for understanding phenomena, which includes not just the efficient cause (the 'how') but also the final cause (the 'why' in terms of purpose). \n",
      "\n",
      "The force of gravity you describe provides an efficient cause for the rock's fall, but it does not explain why gravity itself exists or why objects have the inherent tendency to move in certain ways under its influence. My concept of 'natural place' attempts to provide this missing explanation, suggesting that objects move towards their natural place as part of their inherent tendencies or 'telos'. \n",
      "\n",
      "While your laws accurately predict and quantify the motion of objects, they do not fully explain why objects move the way they do. I propose that a complete understanding of nature requires both our perspectives: your laws to predict and quantify, and my teleology to explain and give meaning.\n",
      "\n",
      "\n",
      "(Isaac Newton): Aristotle, your insistence on the 'why' in terms of purpose is an intriguing philosophical perspective. However, I must clarify my position. As I have stated in a letter to Bentley, I do not attempt to explain why gravity exists or why it has the properties it does. These are questions that go beyond the scope of empirical science and enter the realm of metaphysics or theology. \n",
      "\n",
      "My goal in the Principia Mathematica is not to uncover the ultimate causes of phenomena, but to describe their observable behaviour in a precise, mathematical manner. This approach allows us to predict the motion of objects with great accuracy, which I believe is a significant achievement in understanding the natural world.\n",
      "\n",
      "While I respect your philosophical insights, I remain convinced that the natural world is best understood through empirical observation and mathematical reasoning, without invoking unobservable entities or purposes. The introduction of teleological explanations, in my view, does not enhance our understanding of nature, but rather introduces unnecessary complexities and assumptions.\n",
      "\n",
      "\n",
      "(Aristotle): Newton, while I respect your commitment to empirical observation and mathematical reasoning, I believe that understanding the natural world requires more than just describing and predicting observable phenomena. In my work, Metaphysics, I argued that the ultimate principles and causes of things are not necessarily observable. They are, however, essential for a comprehensive understanding of reality.\n",
      "\n",
      "Your laws of motion and universal gravitation provide an excellent description of the motion of objects, but they do not explain why objects move the way they do. My concept of 'natural place' and 'telos' attempts to provide this explanation, suggesting an inherent tendency in objects to move towards their natural place.\n",
      "\n",
      "I propose that our perspectives are not mutually exclusive but complementary. Your laws provide a quantitative description of motion, while my teleology provides a qualitative understanding of why motion occurs. Together, they could offer a more complete understanding of the natural world.\n",
      "\n",
      "\n",
      "(Isaac Newton): Aristotle, your insistence on the integration of our perspectives is indeed compelling. However, I must reiterate my stance. My laws of motion and universal gravitation offer a comprehensive explanation for the motion of objects. They do not merely describe the motion, but also explain it in terms of the forces acting on the objects and their mass. \n",
      "\n",
      "Your concept of 'natural place' and 'telos', while philosophically intriguing, introduces metaphysical assumptions that, in my view, are not necessary for understanding the natural world. It does not enhance our understanding of the motion of objects, but rather complicates it with unobservable and untestable entities.\n",
      "\n",
      "While I acknowledge the value of philosophical insights in understanding the world, I maintain that the natural world, as the realm of physics, is best understood through empirical observation and mathematical reasoning. Thus, while I respect your perspective, I stand by my empirical and mathematical approach to understanding nature.\n",
      "\n",
      "\n",
      "(Aristotle): Newton, your commitment to empirical observation and mathematical reasoning is indeed admirable, and I respect your perspective. However, I argue that understanding the natural world cannot be confined to the realm of physics alone. \n",
      "\n",
      "In my work, De Anima, I explored the nature of life, arguing that living beings possess a 'soul' or 'psyche', which is not a separate entity but the form and essence of the being. This cannot be reduced to mere physical properties or mathematical descriptions, yet it is an integral part of our understanding of life. \n",
      "\n",
      "Similarly, the concept of 'natural place' and 'telos' provides a broader understanding of natural phenomena, going beyond the physical and quantitative aspects to include the qualitative and purposeful aspects. \n",
      "\n",
      "While your approach excels in predicting and quantifying phenomena, it does not fully address the 'why'. My teleological approach, while less precise in prediction, offers insights into the purpose and meaning of natural phenomena. I maintain that a comprehensive understanding of the natural world requires an integration of both our perspectives.\n",
      "\n",
      "\n",
      "(Isaac Newton): Aristotle, your reference to the 'soul' or 'psyche' in living beings is indeed a profound philosophical concept. However, I must clarify that my work focuses on the physical world, not the realm of life or consciousness. \n",
      "\n",
      "In my work, I strive to describe the motion of objects in a precise, mathematical manner, without invoking metaphysical concepts such as 'soul', 'natural place', or 'telos'. I believe that this approach, grounded in empirical observation and mathematical reasoning, provides a robust and comprehensive understanding of the physical world.\n",
      "\n",
      "While I acknowledge the value of philosophical insights in certain domains, I maintain that the natural world, as the realm of physics, is best understood through quantitative laws and principles. Your teleological explanations, while philosophically intriguing, introduce unobservable and untestable entities that, in my view, do not enhance our understanding of the physical world. Thus, while I respect your perspective, I stand by my empirical and mathematical approach to understanding nature.\n",
      "\n",
      "\n",
      "(Aristotle): Newton, I see your dedication to empirical observation and mathematical reasoning, and I respect it. However, I must reiterate that understanding the natural world is not confined to the physical and quantifiable alone. In my work, Metaphysics, I argued that the ultimate principles and causes of things, while not always observable, are essential for a comprehensive understanding of reality.\n",
      "\n",
      "Your laws of motion and universal gravitation provide a precise description of the motion of objects, but they do not explain why objects move the way they do. My concept of 'natural place' and 'telos' attempts to provide this explanation, suggesting an inherent tendency in objects to move towards their natural place.\n",
      "\n",
      "I propose that our perspectives are not mutually exclusive but complementary. Your laws provide a quantitative description of motion, while my teleology provides a qualitative understanding of why motion occurs. Together, they could offer a more complete understanding of the natural world.\n",
      "\n",
      "\n"
     ]
    }
   ],
   "source": [
    "num_rounds = 10\n",
    "moderator = \"moderator\"\n",
    "objective = \"\"\"\n",
    "    Aristotle, you must try to convince Isaac Newton that a rock falls to the ground because all bodies move \n",
    "    toward their natural place, referring to specific writings on the topic. \n",
    "    Isaac Newton, hear Aristotle out, but respond with counterarguments. \n",
    "    You may change your position on a topic--but only if Aristotle's arguments are more compelling than your own.\n",
    "    Stick to specific arguments about the topic.\n",
    "    \"\"\"\n",
    "\n",
    "run_simulation(num_rounds, moderator, objective, dialogue_agents)"
   ]
  },
  {
   "cell_type": "code",
   "execution_count": null,
   "id": "5e8d7cda-c101-4750-ae52-a3acf8ff4c27",
   "metadata": {},
   "outputs": [],
   "source": []
  }
 ],
 "metadata": {
  "kernelspec": {
   "display_name": "Python 3 (ipykernel)",
   "language": "python",
   "name": "python3"
  },
  "language_info": {
   "codemirror_mode": {
    "name": "ipython",
    "version": 3
   },
   "file_extension": ".py",
   "mimetype": "text/x-python",
   "name": "python",
   "nbconvert_exporter": "python",
   "pygments_lexer": "ipython3",
   "version": "3.10.11"
  }
 },
 "nbformat": 4,
 "nbformat_minor": 5
}
