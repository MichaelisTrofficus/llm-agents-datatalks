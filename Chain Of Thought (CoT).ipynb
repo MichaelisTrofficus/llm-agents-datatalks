{
 "cells": [
  {
   "cell_type": "markdown",
   "id": "2ba00812",
   "metadata": {},
   "source": [
    "# Chain Of Thought (CoT)\n",
    "\n",
    "\n",
    "En este notebook vamos a demostrar el uso de una de las técnicas más simples de **descomposición de tareas** en el prompting. Su nombre es **Chain of Thought**. Veremos cómo gracias a una sencilla modificación del prompt inicial, conseguimos que el LLM sea capaz de llevar a cabo procesos de razonamiento relativamente complejos:\n",
    "\n",
    "**Paper original**: https://arxiv.org/pdf/2201.11903.pdf"
   ]
  },
  {
   "cell_type": "markdown",
   "id": "b62d3cd0",
   "metadata": {},
   "source": [
    "![chain_of_thought](images/cot.png)"
   ]
  },
  {
   "cell_type": "code",
   "execution_count": 1,
   "id": "8a469c26",
   "metadata": {},
   "outputs": [
    {
     "ename": "ModuleNotFoundError",
     "evalue": "No module named 'langchain'",
     "output_type": "error",
     "traceback": [
      "\u001b[0;31m---------------------------------------------------------------------------\u001b[0m",
      "\u001b[0;31mModuleNotFoundError\u001b[0m                       Traceback (most recent call last)",
      "Cell \u001b[0;32mIn[1], line 2\u001b[0m\n\u001b[1;32m      1\u001b[0m \u001b[38;5;28;01mimport\u001b[39;00m \u001b[38;5;21;01mpprint\u001b[39;00m\n\u001b[0;32m----> 2\u001b[0m \u001b[38;5;28;01mfrom\u001b[39;00m \u001b[38;5;21;01mlangchain\u001b[39;00m\u001b[38;5;21;01m.\u001b[39;00m\u001b[38;5;21;01mllms\u001b[39;00m \u001b[38;5;28;01mimport\u001b[39;00m OpenAI\n\u001b[1;32m      4\u001b[0m llm \u001b[38;5;241m=\u001b[39m OpenAI(model_name\u001b[38;5;241m=\u001b[39m\u001b[38;5;124m'\u001b[39m\u001b[38;5;124mtext-davinci-003\u001b[39m\u001b[38;5;124m'\u001b[39m, temperature\u001b[38;5;241m=\u001b[39m\u001b[38;5;241m0\u001b[39m, max_tokens\u001b[38;5;241m=\u001b[39m\u001b[38;5;241m256\u001b[39m)\n",
      "\u001b[0;31mModuleNotFoundError\u001b[0m: No module named 'langchain'"
     ]
    }
   ],
   "source": [
    "import pprint\n",
    "from langchain.llms import OpenAI\n",
    "\n",
    "llm = OpenAI(model_name='text-davinci-003', temperature=0, max_tokens=256)"
   ]
  },
  {
   "cell_type": "markdown",
   "id": "d921d6b7",
   "metadata": {},
   "source": [
    "# El enunciado del problema"
   ]
  },
  {
   "cell_type": "code",
   "execution_count": 8,
   "id": "f8c888c0",
   "metadata": {},
   "outputs": [],
   "source": [
    "\n",
    "reasoning_problem = \"\"\"\n",
    "P: Rodrigo tiene 5 pelotas de tenis. Compra 2 latas más de\n",
    "pelotas de tenis. Cada lata tiene 3 pelotas de tenis. ¿Cuántas pelotas\n",
    "pelotas de tenis tiene ahora?\n",
    "\n",
    "R: La respuesta es 11.\n",
    "\n",
    "P: En la cafetería había 23 manzanas. Si usaron 20 para\n",
    "el almuerzo y compraron 6 más, ¿cuántas manzanas\n",
    "tienen?\n",
    "\"\"\""
   ]
  },
  {
   "cell_type": "code",
   "execution_count": 9,
   "id": "6d655e24",
   "metadata": {},
   "outputs": [
    {
     "name": "stdout",
     "output_type": "stream",
     "text": [
      "\n",
      "P: Rodrigo tiene 5 pelotas de tenis. Compra 2 latas más de\n",
      "pelotas de tenis. Cada lata tiene 3 pelotas de tenis. ¿Cuántas pelotas\n",
      "pelotas de tenis tiene ahora?\n",
      "\n",
      "R: La respuesta es 11.\n",
      "\n",
      "P: En la cafetería había 23 manzanas. Si usaron 20 para\n",
      "el almuerzo y compraron 6 más, ¿cuántas manzanas\n",
      "tienen?\n",
      "\n"
     ]
    }
   ],
   "source": [
    "print(reasoning_problem)"
   ]
  },
  {
   "cell_type": "markdown",
   "id": "2417ecef",
   "metadata": {},
   "source": [
    "# Zero-shot prompting"
   ]
  },
  {
   "cell_type": "code",
   "execution_count": null,
   "id": "de736434",
   "metadata": {},
   "outputs": [],
   "source": []
  }
 ],
 "metadata": {
  "kernelspec": {
   "display_name": "Python 3 (ipykernel)",
   "language": "python",
   "name": "python3"
  },
  "language_info": {
   "codemirror_mode": {
    "name": "ipython",
    "version": 3
   },
   "file_extension": ".py",
   "mimetype": "text/x-python",
   "name": "python",
   "nbconvert_exporter": "python",
   "pygments_lexer": "ipython3",
   "version": "3.10.11"
  }
 },
 "nbformat": 4,
 "nbformat_minor": 5
}
