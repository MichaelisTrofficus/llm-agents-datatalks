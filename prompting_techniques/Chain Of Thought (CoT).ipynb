{
 "cells": [
  {
   "cell_type": "markdown",
   "id": "b93d29ce",
   "metadata": {},
   "source": [
    "# Chain Of Thought (CoT)\n",
    "\n",
    "\n",
    "En este notebook vamos a demostrar el uso de una de las técnicas más simples de **descomposición de tareas** en el prompting. Su nombre es **Chain of Thought**. Veremos cómo gracias a una sencilla modificación del prompt inicial, conseguimos que el LLM sea capaz de llevar a cabo procesos de razonamiento relativamente complejos:\n",
    "\n",
    "**Paper original**: https://arxiv.org/pdf/2201.11903.pdf\n",
    "\n",
    "![chain_of_thought](images/cot.png)"
   ]
  },
  {
   "cell_type": "code",
   "execution_count": 29,
   "id": "fd6a7197",
   "metadata": {},
   "outputs": [],
   "source": [
    "import pprint\n",
    "from langchain.llms import OpenAI\n",
    "\n",
    "llm = OpenAI(model_name='text-davinci-003', temperature=0., max_tokens=256)"
   ]
  },
  {
   "cell_type": "markdown",
   "id": "fe23d6e3",
   "metadata": {},
   "source": [
    "# Enunciado 1"
   ]
  },
  {
   "cell_type": "code",
   "execution_count": 39,
   "id": "21138e9a",
   "metadata": {},
   "outputs": [
    {
     "name": "stdout",
     "output_type": "stream",
     "text": [
      "\n",
      "¿Cuál es la forma más rápida de llegar al trabajo?\n",
      "\n",
      "Opción 1: Tomar un autobús de 1.000 minutos, luego un tren de media hora y, por último, un paseo en bici de 10 minutos.\n",
      "\n",
      "Opción 2: Tomar un autobús de 800 minutos, luego una hora de tren y, por último, 30 minutos en bicicleta.\n",
      "\n"
     ]
    }
   ],
   "source": [
    "reasoning_problem = \"\"\"\n",
    "¿Cuál es la forma más rápida de llegar al trabajo?\n",
    "\n",
    "Opción 1: Tomar un autobús de 1.000 minutos, luego un tren de media hora y, por último, un paseo en bici de 10 minutos.\n",
    "\n",
    "Opción 2: Tomar un autobús de 800 minutos, luego una hora de tren y, por último, 30 minutos en bicicleta.\n",
    "\"\"\"\n",
    "print(reasoning_problem)"
   ]
  },
  {
   "cell_type": "markdown",
   "id": "94de72de",
   "metadata": {},
   "source": [
    "### Zero-shot prompting"
   ]
  },
  {
   "cell_type": "code",
   "execution_count": 40,
   "id": "1e8eca71",
   "metadata": {},
   "outputs": [
    {
     "name": "stdout",
     "output_type": "stream",
     "text": [
      "\n",
      "Opción 3: Tomar un taxi de 20 minutos.\n"
     ]
    }
   ],
   "source": [
    "print(llm.predict(reasoning_problem))"
   ]
  },
  {
   "cell_type": "markdown",
   "id": "f3b9ec0e-db7f-4c5f-a84b-005a3bee7ef1",
   "metadata": {},
   "source": [
    "### Few-shot Chain of Though prompting"
   ]
  },
  {
   "cell_type": "code",
   "execution_count": 41,
   "id": "03d108fa-09c2-4e48-bb4c-e6bf7964d9e0",
   "metadata": {},
   "outputs": [
    {
     "name": "stdout",
     "output_type": "stream",
     "text": [
      "\n",
      "¿Cuál es la forma más rápida de llegar a casa?\n",
      "\n",
      "Opción 1: Coger un autobús de 10 minutos, luego otro de 40 minutos y, por último, un tren de 10 minutos.\n",
      "\n",
      "Opción 2: Tomar un tren de 90 minutos, luego un paseo en bicicleta de 45 minutos, y finalmente un autobús de 10 minutos.\n",
      "\n",
      "La opción 1 tardará 10+40+10 = 60 minutos.\n",
      "La opción 2 tardará 90+45+10=145 minutos.\n",
      "\n",
      "Como la Opción 1 tarda 60 minutos y la Opción 2 tarda 145 minutos, la Opción 1 es más rápida.\n",
      "\n",
      "¿Cuál es la forma más rápida de llegar al trabajo?\n",
      "\n",
      "Opción 1: Tomar un autobús de 1.000 minutos, luego un tren de media hora y, por último, un paseo en bici de 10 minutos.\n",
      "\n",
      "Opción 2: Tomar un autobús de 800 minutos, luego una hora de tren y, por último, 30 minutos en bicicleta.\n",
      "\n"
     ]
    }
   ],
   "source": [
    "reasoning_problem = \"\"\"\n",
    "¿Cuál es la forma más rápida de llegar a casa?\n",
    "\n",
    "Opción 1: Coger un autobús de 10 minutos, luego otro de 40 minutos y, por último, un tren de 10 minutos.\n",
    "\n",
    "Opción 2: Tomar un tren de 90 minutos, luego un paseo en bicicleta de 45 minutos, y finalmente un autobús de 10 minutos.\n",
    "\n",
    "La opción 1 tardará 10+40+10 = 60 minutos.\n",
    "La opción 2 tardará 90+45+10=145 minutos.\n",
    "\n",
    "Como la Opción 1 tarda 60 minutos y la Opción 2 tarda 145 minutos, la Opción 1 es más rápida.\n",
    "\n",
    "¿Cuál es la forma más rápida de llegar al trabajo?\n",
    "\n",
    "Opción 1: Tomar un autobús de 1.000 minutos, luego un tren de media hora y, por último, un paseo en bici de 10 minutos.\n",
    "\n",
    "Opción 2: Tomar un autobús de 800 minutos, luego una hora de tren y, por último, 30 minutos en bicicleta.\n",
    "\"\"\"\n",
    "print(reasoning_problem)"
   ]
  },
  {
   "cell_type": "code",
   "execution_count": 42,
   "id": "1a27e19d-99ff-45a5-ac8f-423ce5566686",
   "metadata": {},
   "outputs": [
    {
     "name": "stdout",
     "output_type": "stream",
     "text": [
      "\n",
      "La Opción 1 tardará 1.000+30+10=1.040 minutos.\n",
      "La Opción 2 tardará 800+60+30=890 minutos.\n",
      "\n",
      "Como la Opción 2 tarda 890 minutos y la Opción 1 tarda 1.040 minutos, la Opción 2 es más rápida.\n"
     ]
    }
   ],
   "source": [
    "print(llm.predict(reasoning_problem))"
   ]
  },
  {
   "cell_type": "markdown",
   "id": "89156ad4-8467-46ed-8f56-a17891904e02",
   "metadata": {},
   "source": [
    "# Enunciado 2"
   ]
  },
  {
   "cell_type": "code",
   "execution_count": 43,
   "id": "d0c03650-c71f-46ec-9535-07a67be795a1",
   "metadata": {},
   "outputs": [
    {
     "name": "stdout",
     "output_type": "stream",
     "text": [
      "\n",
      "He ido al mercado y he comprado 10 manzanas. \n",
      "Le di 2 manzanas al vecino y 2 al reparador. \n",
      "Después he ido a comprar 5 manzanas más y me he comido 1.\n",
      "¿Con cuántas manzanas me quedé?\n",
      "\n"
     ]
    }
   ],
   "source": [
    "reasoning_problem = \"\"\"\n",
    "He ido al mercado y he comprado 10 manzanas. \n",
    "Le di 2 manzanas al vecino y 2 al reparador. \n",
    "Después he ido a comprar 5 manzanas más y me he comido 1.\n",
    "¿Con cuántas manzanas me quedé?\n",
    "\"\"\"\n",
    "print(reasoning_problem)"
   ]
  },
  {
   "cell_type": "markdown",
   "id": "4b291004-ea85-4335-abda-91299cb34c88",
   "metadata": {},
   "source": [
    "### Zero-shot prompting"
   ]
  },
  {
   "cell_type": "code",
   "execution_count": 44,
   "id": "e555df80-ba57-4cd3-81d4-d519759a507e",
   "metadata": {},
   "outputs": [
    {
     "name": "stdout",
     "output_type": "stream",
     "text": [
      "\n",
      "Me quedé con 13 manzanas.\n"
     ]
    }
   ],
   "source": [
    "print(llm.predict(reasoning_problem))"
   ]
  },
  {
   "cell_type": "markdown",
   "id": "138b6132-4cdf-46f9-a5bb-be7322704b8f",
   "metadata": {},
   "source": [
    "### Zero-shot Chain of Though prompting"
   ]
  },
  {
   "cell_type": "code",
   "execution_count": 45,
   "id": "04595774-c8d5-4724-8841-ef297eff4caa",
   "metadata": {},
   "outputs": [
    {
     "name": "stdout",
     "output_type": "stream",
     "text": [
      "\n",
      "He ido al mercado y he comprado 10 manzanas. \n",
      "Le di 2 manzanas al vecino y 2 al reparador. \n",
      "Después he ido a comprar 5 manzanas más y me he comido 1.\n",
      "¿Con cuántas manzanas me quedé?\n",
      "Razona paso a paso.\n",
      "\n"
     ]
    }
   ],
   "source": [
    "reasoning_problem = \"\"\"\n",
    "He ido al mercado y he comprado 10 manzanas. \n",
    "Le di 2 manzanas al vecino y 2 al reparador. \n",
    "Después he ido a comprar 5 manzanas más y me he comido 1.\n",
    "¿Con cuántas manzanas me quedé?\n",
    "Razona paso a paso.\n",
    "\"\"\"\n",
    "print(reasoning_problem)"
   ]
  },
  {
   "cell_type": "code",
   "execution_count": 46,
   "id": "477f2d2b-f55c-43dd-9391-5875fb9308ec",
   "metadata": {},
   "outputs": [
    {
     "name": "stdout",
     "output_type": "stream",
     "text": [
      "\n",
      "Inicialmente compré 10 manzanas. \n",
      "Le di 2 manzanas al vecino y 2 al reparador, por lo tanto me quedan 6 manzanas. \n",
      "Después compré 5 manzanas más, por lo tanto ahora tengo 11 manzanas. \n",
      "Finalmente me comí 1 manzana, por lo tanto me quedan 10 manzanas.\n"
     ]
    }
   ],
   "source": [
    "print(llm.predict(reasoning_problem))"
   ]
  }
 ],
 "metadata": {
  "kernelspec": {
   "display_name": "Python 3 (ipykernel)",
   "language": "python",
   "name": "python3"
  },
  "language_info": {
   "codemirror_mode": {
    "name": "ipython",
    "version": 3
   },
   "file_extension": ".py",
   "mimetype": "text/x-python",
   "name": "python",
   "nbconvert_exporter": "python",
   "pygments_lexer": "ipython3",
   "version": "3.10.11"
  }
 },
 "nbformat": 4,
 "nbformat_minor": 5
}
