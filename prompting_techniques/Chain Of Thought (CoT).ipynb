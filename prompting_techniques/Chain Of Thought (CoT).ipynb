{
 "cells": [
  {
   "cell_type": "markdown",
   "id": "b93d29ce",
   "metadata": {},
   "source": [
    "# Chain Of Thought (CoT)\n",
    "\n",
    "\n",
    "En este notebook vamos a demostrar el uso de una de las técnicas más simples de **descomposición de tareas** en el prompting. Su nombre es **Chain of Thought**. Veremos cómo gracias a una sencilla modificación del prompt inicial, conseguimos que el LLM sea capaz de llevar a cabo procesos de razonamiento relativamente complejos:\n",
    "\n",
    "**Paper original**: https://arxiv.org/pdf/2201.11903.pdf"
   ]
  },
  {
   "cell_type": "markdown",
   "id": "5882489c",
   "metadata": {},
   "source": [
    "![chain_of_thought](images/cot.png)"
   ]
  },
  {
   "cell_type": "code",
   "execution_count": 50,
   "id": "fd6a7197",
   "metadata": {},
   "outputs": [],
   "source": [
    "import pprint\n",
    "from langchain.llms import OpenAI\n",
    "\n",
    "llm = OpenAI(model_name='text-davinci-003', temperature=0., max_tokens=256)"
   ]
  },
  {
   "cell_type": "markdown",
   "id": "fe23d6e3",
   "metadata": {},
   "source": [
    "# El enunciado del problema"
   ]
  },
  {
   "cell_type": "code",
   "execution_count": 51,
   "id": "21138e9a",
   "metadata": {},
   "outputs": [],
   "source": [
    "reasoning_problem = \"\"\"\n",
    "¿Cuál es la forma más rápida de llegar al trabajo?\n",
    "\n",
    "Opción 1: Tomar un autobús de 1.000 minutos, luego un tren de media hora y, por último, un paseo en bici de 10 minutos.\n",
    "\n",
    "Opción 2: Tomar un autobús de 800 minutos, luego una hora de tren y, por último, 30 minutos en bicicleta.\n",
    "\"\"\""
   ]
  },
  {
   "cell_type": "code",
   "execution_count": 52,
   "id": "ec7fc6e1",
   "metadata": {},
   "outputs": [
    {
     "name": "stdout",
     "output_type": "stream",
     "text": [
      "\n",
      "¿Cuál es la forma más rápida de llegar al trabajo?\n",
      "\n",
      "Opción 1: Tomar un autobús de 1.000 minutos, luego un tren de media hora y, por último, un paseo en bici de 10 minutos.\n",
      "\n",
      "Opción 2: Tomar un autobús de 800 minutos, luego una hora de tren y, por último, 30 minutos en bicicleta.\n",
      "\n"
     ]
    }
   ],
   "source": [
    "print(reasoning_problem)"
   ]
  },
  {
   "cell_type": "markdown",
   "id": "94de72de",
   "metadata": {},
   "source": [
    "# Zero-shot prompting"
   ]
  },
  {
   "cell_type": "code",
   "execution_count": 53,
   "id": "1e8eca71",
   "metadata": {},
   "outputs": [
    {
     "name": "stdout",
     "output_type": "stream",
     "text": [
      "\n",
      "Opción 3: Tomar un taxi de 20 minutos.\n"
     ]
    }
   ],
   "source": [
    "print(llm.predict(reasoning_problem))"
   ]
  },
  {
   "cell_type": "markdown",
   "id": "f3b9ec0e-db7f-4c5f-a84b-005a3bee7ef1",
   "metadata": {},
   "source": [
    "# Chain of Though prompting"
   ]
  },
  {
   "cell_type": "code",
   "execution_count": 54,
   "id": "03d108fa-09c2-4e48-bb4c-e6bf7964d9e0",
   "metadata": {},
   "outputs": [],
   "source": [
    "reasoning_problem = \"\"\"\n",
    "¿Cuál es la forma más rápida de llegar a casa?\n",
    "\n",
    "Opción 1: Coger un autobús de 10 minutos, luego otro de 40 minutos y, por último, un tren de 10 minutos.\n",
    "\n",
    "Opción 2: Tomar un tren de 90 minutos, luego un paseo en bicicleta de 45 minutos, y finalmente un autobús de 10 minutos.\n",
    "\n",
    "La opción 1 tardará 10+40+10 = 60 minutos.\n",
    "La opción 2 tardará 90+45+10=145 minutos.\n",
    "\n",
    "Como la Opción 1 tarda 60 minutos y la Opción 2 tarda 145 minutos, la Opción 1 es más rápida.\n",
    "\n",
    "¿Cuál es la forma más rápida de llegar al trabajo?\n",
    "\n",
    "Opción 1: Tomar un autobús de 1.000 minutos, luego un tren de media hora y, por último, un paseo en bici de 10 minutos.\n",
    "\n",
    "Opción 2: Tomar un autobús de 800 minutos, luego una hora de tren y, por último, 30 minutos en bicicleta.\n",
    "\"\"\""
   ]
  },
  {
   "cell_type": "code",
   "execution_count": 55,
   "id": "4db131d0-7fb1-4a3e-b73a-d6f254436baa",
   "metadata": {},
   "outputs": [
    {
     "name": "stdout",
     "output_type": "stream",
     "text": [
      "\n",
      "¿Cuál es la forma más rápida de llegar a casa?\n",
      "\n",
      "Opción 1: Coger un autobús de 10 minutos, luego otro de 40 minutos y, por último, un tren de 10 minutos.\n",
      "\n",
      "Opción 2: Tomar un tren de 90 minutos, luego un paseo en bicicleta de 45 minutos, y finalmente un autobús de 10 minutos.\n",
      "\n",
      "La opción 1 tardará 10+40+10 = 60 minutos.\n",
      "La opción 2 tardará 90+45+10=145 minutos.\n",
      "\n",
      "Como la Opción 1 tarda 60 minutos y la Opción 2 tarda 145 minutos, la Opción 1 es más rápida.\n",
      "\n",
      "¿Cuál es la forma más rápida de llegar al trabajo?\n",
      "\n",
      "Opción 1: Tomar un autobús de 1.000 minutos, luego un tren de media hora y, por último, un paseo en bici de 10 minutos.\n",
      "\n",
      "Opción 2: Tomar un autobús de 800 minutos, luego una hora de tren y, por último, 30 minutos en bicicleta.\n",
      "\n"
     ]
    }
   ],
   "source": [
    "print(reasoning_problem)"
   ]
  },
  {
   "cell_type": "code",
   "execution_count": 56,
   "id": "1a27e19d-99ff-45a5-ac8f-423ce5566686",
   "metadata": {},
   "outputs": [
    {
     "name": "stdout",
     "output_type": "stream",
     "text": [
      "\n",
      "La Opción 1 tardará 1.000+30+10=1.040 minutos.\n",
      "La Opción 2 tardará 800+60+30=890 minutos.\n",
      "\n",
      "Como la Opción 2 tarda 890 minutos y la Opción 1 tarda 1.040 minutos, la Opción 2 es más rápida.\n"
     ]
    }
   ],
   "source": [
    "print(llm.predict(reasoning_problem))"
   ]
  },
  {
   "cell_type": "code",
   "execution_count": null,
   "id": "160250d0-95b3-455f-b08e-688a2e4491c8",
   "metadata": {},
   "outputs": [],
   "source": []
  }
 ],
 "metadata": {
  "kernelspec": {
   "display_name": "Python 3 (ipykernel)",
   "language": "python",
   "name": "python3"
  },
  "language_info": {
   "codemirror_mode": {
    "name": "ipython",
    "version": 3
   },
   "file_extension": ".py",
   "mimetype": "text/x-python",
   "name": "python",
   "nbconvert_exporter": "python",
   "pygments_lexer": "ipython3",
   "version": "3.10.11"
  }
 },
 "nbformat": 4,
 "nbformat_minor": 5
}
