{
 "cells": [
  {
   "cell_type": "markdown",
   "id": "a931ef4d-7374-41d4-9f10-b204484d338f",
   "metadata": {},
   "source": [
    "# ReAct (Reason + Act)"
   ]
  },
  {
   "cell_type": "markdown",
   "id": "ae6343f2-f2f4-4a9f-a649-b4ed16d6dd50",
   "metadata": {},
   "source": [
    "El paradigma **ReAct (Reason + Act)** propuesto por **Google**, permite combinar las **capacidad de razonamiento** (ya presentes en técnicas como **CoT**), con la **capacidad de actuar** sobre un medio externo. Esta última parte es la que supone un enorme avance respecto de técnicas limitadas a la descomposición de tareas, como **CoT**. Y es que **ReAct** tiene la habilidad de acceder al mundo exterior para verificar hipótesis, razonar sobre contenido externo o actuar sobre el exterior.\n",
    "\n",
    "\n",
    "\n",
    "**Paper original**: https://arxiv.org/pdf/2210.03629.pdf\n",
    "\n",
    "![react](images/react.png)"
   ]
  },
  {
   "cell_type": "markdown",
   "id": "8c03e26f-e6c8-4594-aecf-0e27ed824510",
   "metadata": {},
   "source": [
    "# ¿Cómo definir las acciones sobre el exterior?"
   ]
  },
  {
   "cell_type": "markdown",
   "id": "7b3844e9-b717-45a1-bf93-5416ef29306a",
   "metadata": {},
   "source": [
    "En este caso nos limitaremos a usar la **Wikipedia** como entorno con el que el framework **ReAct** pueda interaccionar. Además, definiremos dos acciones posible:\n",
    "\n",
    "1. **Search**: Busca una página en concreto en la Wikipedia.\n",
    "2. **Lookup**: Busca un término en una página en concreto."
   ]
  },
  {
   "cell_type": "markdown",
   "id": "f6eac69e-b4d1-4a0d-b63c-97fa961a276f",
   "metadata": {},
   "source": [
    "### The Hard Way 😥\n",
    "\n"
   ]
  },
  {
   "cell_type": "code",
   "execution_count": 1,
   "id": "d29ef2f8-4e3b-48dc-b8f3-d4215419c29a",
   "metadata": {},
   "outputs": [],
   "source": [
    "import wikipedia \n",
    "...\n",
    "# Implementar desde cero las interacciones del LLM con la librería de wikipedia, definir los pasos de Thought, Act, Obs, etc.\n",
    "# Existe una alternativa?"
   ]
  },
  {
   "cell_type": "markdown",
   "id": "33d7e520-6d4e-4416-abcc-6976d588e95a",
   "metadata": {},
   "source": [
    "### The Easy Way 🦜🔗 "
   ]
  },
  {
   "cell_type": "code",
   "execution_count": 2,
   "id": "f067addd-1dad-4b3e-a0f5-438dc7b3ce52",
   "metadata": {},
   "outputs": [],
   "source": [
    "from langchain import OpenAI, Wikipedia\n",
    "from langchain.agents import initialize_agent, Tool\n",
    "from langchain.agents import AgentType\n",
    "from langchain.agents.react.base import DocstoreExplorer"
   ]
  },
  {
   "cell_type": "markdown",
   "id": "c21136e9-a403-491f-929e-1520f6ecdafe",
   "metadata": {},
   "source": [
    "Instanciamos las herramientas que podrá usar nuestro agente."
   ]
  },
  {
   "cell_type": "code",
   "execution_count": 3,
   "id": "16b53a6c-2e1f-48b3-b105-18fea124fb03",
   "metadata": {},
   "outputs": [],
   "source": [
    "docstore=DocstoreExplorer(Wikipedia())\n",
    "\n",
    "tools = [\n",
    "    Tool(\n",
    "        name=\"Search\",\n",
    "        func=docstore.search,\n",
    "        description=\"useful for when you need to ask with search\"\n",
    "    ),\n",
    "    Tool(\n",
    "        name=\"Lookup\",\n",
    "        func=docstore.lookup,\n",
    "        description=\"useful for when you need to ask with lookup\"\n",
    "    )\n",
    "]"
   ]
  },
  {
   "cell_type": "markdown",
   "id": "a9767138-57d9-440f-9675-742099094556",
   "metadata": {},
   "source": [
    "Creamos el LLM, el **cerebro** de nuestro agente."
   ]
  },
  {
   "cell_type": "code",
   "execution_count": 21,
   "id": "960a6ba1-0203-45fe-b9a1-93dd42d747c8",
   "metadata": {},
   "outputs": [],
   "source": [
    "llm = OpenAI(temperature=0, model_name=\"text-davinci-003\")"
   ]
  },
  {
   "cell_type": "markdown",
   "id": "df386275-fd47-415d-b85a-d294a727e1d0",
   "metadata": {},
   "source": [
    "Por fortuna, **LangChain** ya tiene agentes **ReAct** para consultas a **DocStores**, de modo que usaremos este. "
   ]
  },
  {
   "cell_type": "code",
   "execution_count": 22,
   "id": "f1cd86a1-e77a-47eb-a6ad-3bebfacba8b2",
   "metadata": {},
   "outputs": [],
   "source": [
    "react = initialize_agent(tools, llm, agent=AgentType.REACT_DOCSTORE, verbose=True, handle_parsing_errors=True)"
   ]
  },
  {
   "cell_type": "code",
   "execution_count": 23,
   "id": "f4281694-5fdd-451e-b1f4-be26460d61df",
   "metadata": {},
   "outputs": [
    {
     "name": "stdout",
     "output_type": "stream",
     "text": [
      "\n",
      "\n",
      "\u001b[1m> Entering new AgentExecutor chain...\u001b[0m\n",
      "\u001b[32;1m\u001b[1;3m\n",
      "Thought: I need to search the King of Spain and find his second daughter, then find her age and calculate how old she will be in 2026.\n",
      "Action: Search[King of Spain]\u001b[0m\n",
      "Observation: \u001b[36;1m\u001b[1;3mThe monarchy of Spain or Spanish monarchy (Spanish: Monarquía Española) is the constitutional form of government of Spain. It consist of a hereditary monarch that reigns as the head of state, being the highest office of the country. The current monarch is Felipe VI since 19 June 2014, after the abdication of his father, King Juan Carlos I.\n",
      "The Spanish monarchy is constitutionally referred to as The Crown (Spanish: La Corona), and it comprises the reigning monarch, his or her royal family, and the Royal Household, which supports and facilitates the sovereign in the exercise of his duties and prerogatives. The Royal Family is currently represented by King Felipe VI, Queen Letizia, their daughters Leonor, Princess of Asturias, and Infanta Sofía, and the king's parents, King Juan Carlos and Queen Sofía.\n",
      "The Spanish Constitution of 1978 re-established a constitutional monarchy as the form of government for Spain after the end of the Francoist regime and the restoration of democracy in 1977. The 1978 constitution affirmed the role of the king of Spain as the living personification and embodiment of the Spanish State and a symbol of Spain's enduring unity and permanence and is also invested as the \"arbitrator and the moderator\" of Spanish state institutions. Constitutionally, the king is the head of state and commander-in-chief of the Spanish Armed Forces. The constitution codifies the use of royal styles and titulary, Royal Prerogatives, hereditary succession to the crown, compensation, and a regency-guardianship contingency in cases of the monarch's minority or incapacitation. According to the constitution, the monarch is also instrumental in promoting relations with the \"nations of its historical community\". The king of Spain serves as the president of the Organization of Ibero-American States, representing over 700,000,000 people in twenty-four member nations worldwide. Spain and Monaco are the last remaining monarchies on the European Mediterranean coast.\n",
      "The Spanish monarchy has its roots in the Visigothic Kingdom of Toledo founded after the fall of the Western Roman Empire. Then the Kingdom of Asturias fought the Reconquista following the Umayyad conquest of Hispania in the 8th century. A dynastic marriage between Isabella I of Castile and Ferdinand II of Aragon (the \"Catholic Monarchs\") united Spain in the 15th century. The Spanish Empire became one of the first global powers as Isabella and Ferdinand funded Christopher Columbus's exploratory voyage across the Atlantic Ocean. The sea route he established paved the way for the Spanish conquest of much of the Americas.\n",
      "As of 2021, the official budget for the Spanish monarchy is 8.4 million euros, one of the lowest public expenditures for the institution of monarchy in Europe. However, other expenses of the royal house are assumed by different government departments.\u001b[0m\n",
      "Thought:\u001b[32;1m\u001b[1;3m The second daughter of the King of Spain is Infanta Sofía. I need to search Infanta Sofía and find her age.\n",
      "Action: Search[Infanta Sofía]\u001b[0m\n",
      "Observation: \u001b[36;1m\u001b[1;3mInfanta Sofía of Spain (Sofía de Todos los Santos de Borbón y Ortiz; born 29 April 2007) is a member of the Spanish royal family. She is the younger daughter of King Felipe VI and Queen Letizia and, as such, is second in the line of succession to the Spanish throne behind her sister, Leonor, Princess of Asturias.\n",
      "Sofía was born at the Ruber International Hospital in Madrid during the reign of her paternal grandfather, King Juan Carlos I. She has received the same education as her sister, being educated at the Santa María de los Rosales School and, in 2023, she started an International Baccalaureate at the UWC Atlantic College in Wales, United Kingdom.\u001b[0m\n",
      "Thought:\u001b[32;1m\u001b[1;3m Infanta Sofía is 14 years old in 2021. So in 2026, she will be 19 years old.\n",
      "Action: Finish[19]\u001b[0m\n",
      "\n",
      "\u001b[1m> Finished chain.\u001b[0m\n"
     ]
    },
    {
     "data": {
      "text/plain": [
       "'19'"
      ]
     },
     "execution_count": 23,
     "metadata": {},
     "output_type": "execute_result"
    }
   ],
   "source": [
    "question = \"\"\"\n",
    "How old will the second daughter of the King of Spain be in 2026?\n",
    "\"\"\"\n",
    "react.run(question)"
   ]
  },
  {
   "cell_type": "code",
   "execution_count": 26,
   "id": "9b7dbd3b-4de8-49bf-a56c-ab7270438d77",
   "metadata": {},
   "outputs": [
    {
     "name": "stdout",
     "output_type": "stream",
     "text": [
      "\n",
      "\n",
      "\u001b[1m> Entering new AgentExecutor chain...\u001b[0m\n",
      "\u001b[32;1m\u001b[1;3m\n",
      "Thought: I need to search Peter Jackson and Eddard Stark, find the film they are both in, then find the actor who plays Eddard Stark in the film.\n",
      "Action: Search[Peter Jackson]\u001b[0m\n",
      "Observation: \u001b[36;1m\u001b[1;3mSir Peter Robert Jackson  (born 31 October 1961) is a New Zealand film director, screenwriter and producer. He is best known as the director, writer and producer of the Lord of the Rings trilogy (2001–2003) and the Hobbit trilogy (2012–2014), both of which are adapted from the novels of the same name by J. R. R. Tolkien. Other notable films include the critically lauded drama Heavenly Creatures (1994), the horror comedy The Frighteners (1996), the epic monster remake film King Kong (2005), the World War I documentary film They Shall Not Grow Old (2018) and the documentary The Beatles: Get Back (2021). He is the fourth-highest-grossing film director of all-time, his films having made over $6.5 billion worldwide.Jackson began his career with the \"splatstick\" horror comedy Bad Taste (1987) and the black comedy Meet the Feebles (1989) before filming the zombie comedy Braindead (1992). He shared a nomination for Academy Award for Best Original Screenplay with his partner Fran Walsh for Heavenly Creatures, which brought him to mainstream prominence in the film industry. Jackson has been awarded three Academy Awards for The Lord of the Rings: The Return of the King (2003), including Best Picture, Best Director, and Best Adapted Screenplay. His other awards include three BAFTAs, a Golden Globe, two Primetime Emmy Awards and four Saturn Awards among others.\n",
      "His production company is WingNut Films, and his most regular collaborators are co-writers and producers Walsh and Philippa Boyens. Jackson was made a Companion of the New Zealand Order of Merit in 2002. He was later knighted (as a Knight Companion of the order) by Sir Anand Satyanand, the Governor-General of New Zealand, at a ceremony in Wellington in April 2010. In December 2014, Jackson was awarded a star on the Hollywood Walk of Fame.\u001b[0m\n",
      "Thought:\u001b[32;1m\u001b[1;3m I need to search Eddard Stark next and find the film they are both in.\n",
      "Action: Search[Eddard Stark]\u001b[0m\n",
      "Observation: \u001b[36;1m\u001b[1;3mEddard \"Ned\" Stark is a fictional character in the 1996 fantasy novel A Game of Thrones by George R. R. Martin, and Game of Thrones, HBO's adaptation of Martin's A Song of Ice and Fire series. In the storyline, Ned is the lord of Winterfell, an ancient fortress in the North of the fictional continent of Westeros. Though the character is established as the main character in the novel and the first season of the TV adaptation, a plot twist involving Ned near the end of the novel and the end of the first season shocked both readers of the book and viewers of the TV series.Ned is portrayed by veteran English actor Sean Bean in the first season of Game of Thrones, as a child by Sebastian Croft in the sixth season and as a young adult by Robert Aramayo in the sixth and seventh seasons. Bean was nominated for a Saturn Award for Best Actor on Television and a Scream Award for Best Fantasy Actor for the role. He and the rest of the cast were nominated for Screen Actors Guild Awards for Outstanding Performance by an Ensemble in a Drama Series in 2011.\u001b[0m\n",
      "Thought:\u001b[32;1m\u001b[1;3m Eddard Stark is portrayed by Sean Bean in the first season of Game of Thrones. So the Peter Jackson film featuring an actor who plays Eddard Stark in Game of Thrones is The Lord of the Rings trilogy.\n",
      "Action: Finish[The Lord of the Rings trilogy]\u001b[0m\n",
      "\n",
      "\u001b[1m> Finished chain.\u001b[0m\n"
     ]
    },
    {
     "data": {
      "text/plain": [
       "'The Lord of the Rings trilogy'"
      ]
     },
     "execution_count": 26,
     "metadata": {},
     "output_type": "execute_result"
    }
   ],
   "source": [
    "question = \"\"\"\n",
    "Which Peter Jackson film features an actor who plays Eddard Stark in Game of Thrones?\n",
    "\"\"\"\n",
    "react.run(question)"
   ]
  }
 ],
 "metadata": {
  "kernelspec": {
   "display_name": "Python 3 (ipykernel)",
   "language": "python",
   "name": "python3"
  },
  "language_info": {
   "codemirror_mode": {
    "name": "ipython",
    "version": 3
   },
   "file_extension": ".py",
   "mimetype": "text/x-python",
   "name": "python",
   "nbconvert_exporter": "python",
   "pygments_lexer": "ipython3",
   "version": "3.10.11"
  }
 },
 "nbformat": 4,
 "nbformat_minor": 5
}
